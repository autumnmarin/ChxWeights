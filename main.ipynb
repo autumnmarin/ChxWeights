{
 "cells": [
  {
   "cell_type": "markdown",
   "metadata": {},
   "source": [
    "## Linear Regression "
   ]
  },
  {
   "cell_type": "markdown",
   "metadata": {},
   "source": [
    "Load Packages"
   ]
  },
  {
   "cell_type": "code",
   "execution_count": 12,
   "metadata": {
    "vscode": {
     "languageId": "r"
    }
   },
   "outputs": [],
   "source": [
    "require(stats); require(graphics)"
   ]
  },
  {
   "cell_type": "markdown",
   "metadata": {},
   "source": [
    "Load Data"
   ]
  },
  {
   "cell_type": "code",
   "execution_count": 16,
   "metadata": {
    "vscode": {
     "languageId": "r"
    }
   },
   "outputs": [
    {
     "data": {
      "text/html": [
       "<table class=\"dataframe\">\n",
       "<caption>A data.frame: 71 × 2</caption>\n",
       "<thead>\n",
       "\t<tr><th scope=col>weight</th><th scope=col>feed</th></tr>\n",
       "\t<tr><th scope=col>&lt;dbl&gt;</th><th scope=col>&lt;fct&gt;</th></tr>\n",
       "</thead>\n",
       "<tbody>\n",
       "\t<tr><td>179</td><td>horsebean</td></tr>\n",
       "\t<tr><td>160</td><td>horsebean</td></tr>\n",
       "\t<tr><td>136</td><td>horsebean</td></tr>\n",
       "\t<tr><td>227</td><td>horsebean</td></tr>\n",
       "\t<tr><td>217</td><td>horsebean</td></tr>\n",
       "\t<tr><td>168</td><td>horsebean</td></tr>\n",
       "\t<tr><td>108</td><td>horsebean</td></tr>\n",
       "\t<tr><td>124</td><td>horsebean</td></tr>\n",
       "\t<tr><td>143</td><td>horsebean</td></tr>\n",
       "\t<tr><td>140</td><td>horsebean</td></tr>\n",
       "\t<tr><td>309</td><td>linseed  </td></tr>\n",
       "\t<tr><td>229</td><td>linseed  </td></tr>\n",
       "\t<tr><td>181</td><td>linseed  </td></tr>\n",
       "\t<tr><td>141</td><td>linseed  </td></tr>\n",
       "\t<tr><td>260</td><td>linseed  </td></tr>\n",
       "\t<tr><td>203</td><td>linseed  </td></tr>\n",
       "\t<tr><td>148</td><td>linseed  </td></tr>\n",
       "\t<tr><td>169</td><td>linseed  </td></tr>\n",
       "\t<tr><td>213</td><td>linseed  </td></tr>\n",
       "\t<tr><td>257</td><td>linseed  </td></tr>\n",
       "\t<tr><td>244</td><td>linseed  </td></tr>\n",
       "\t<tr><td>271</td><td>linseed  </td></tr>\n",
       "\t<tr><td>243</td><td>soybean  </td></tr>\n",
       "\t<tr><td>230</td><td>soybean  </td></tr>\n",
       "\t<tr><td>248</td><td>soybean  </td></tr>\n",
       "\t<tr><td>327</td><td>soybean  </td></tr>\n",
       "\t<tr><td>329</td><td>soybean  </td></tr>\n",
       "\t<tr><td>250</td><td>soybean  </td></tr>\n",
       "\t<tr><td>193</td><td>soybean  </td></tr>\n",
       "\t<tr><td>271</td><td>soybean  </td></tr>\n",
       "\t<tr><td>⋮</td><td>⋮</td></tr>\n",
       "\t<tr><td>226</td><td>sunflower</td></tr>\n",
       "\t<tr><td>320</td><td>sunflower</td></tr>\n",
       "\t<tr><td>295</td><td>sunflower</td></tr>\n",
       "\t<tr><td>334</td><td>sunflower</td></tr>\n",
       "\t<tr><td>322</td><td>sunflower</td></tr>\n",
       "\t<tr><td>297</td><td>sunflower</td></tr>\n",
       "\t<tr><td>318</td><td>sunflower</td></tr>\n",
       "\t<tr><td>325</td><td>meatmeal </td></tr>\n",
       "\t<tr><td>257</td><td>meatmeal </td></tr>\n",
       "\t<tr><td>303</td><td>meatmeal </td></tr>\n",
       "\t<tr><td>315</td><td>meatmeal </td></tr>\n",
       "\t<tr><td>380</td><td>meatmeal </td></tr>\n",
       "\t<tr><td>153</td><td>meatmeal </td></tr>\n",
       "\t<tr><td>263</td><td>meatmeal </td></tr>\n",
       "\t<tr><td>242</td><td>meatmeal </td></tr>\n",
       "\t<tr><td>206</td><td>meatmeal </td></tr>\n",
       "\t<tr><td>344</td><td>meatmeal </td></tr>\n",
       "\t<tr><td>258</td><td>meatmeal </td></tr>\n",
       "\t<tr><td>368</td><td>casein   </td></tr>\n",
       "\t<tr><td>390</td><td>casein   </td></tr>\n",
       "\t<tr><td>379</td><td>casein   </td></tr>\n",
       "\t<tr><td>260</td><td>casein   </td></tr>\n",
       "\t<tr><td>404</td><td>casein   </td></tr>\n",
       "\t<tr><td>318</td><td>casein   </td></tr>\n",
       "\t<tr><td>352</td><td>casein   </td></tr>\n",
       "\t<tr><td>359</td><td>casein   </td></tr>\n",
       "\t<tr><td>216</td><td>casein   </td></tr>\n",
       "\t<tr><td>222</td><td>casein   </td></tr>\n",
       "\t<tr><td>283</td><td>casein   </td></tr>\n",
       "\t<tr><td>332</td><td>casein   </td></tr>\n",
       "</tbody>\n",
       "</table>\n"
      ],
      "text/latex": [
       "A data.frame: 71 × 2\n",
       "\\begin{tabular}{ll}\n",
       " weight & feed\\\\\n",
       " <dbl> & <fct>\\\\\n",
       "\\hline\n",
       "\t 179 & horsebean\\\\\n",
       "\t 160 & horsebean\\\\\n",
       "\t 136 & horsebean\\\\\n",
       "\t 227 & horsebean\\\\\n",
       "\t 217 & horsebean\\\\\n",
       "\t 168 & horsebean\\\\\n",
       "\t 108 & horsebean\\\\\n",
       "\t 124 & horsebean\\\\\n",
       "\t 143 & horsebean\\\\\n",
       "\t 140 & horsebean\\\\\n",
       "\t 309 & linseed  \\\\\n",
       "\t 229 & linseed  \\\\\n",
       "\t 181 & linseed  \\\\\n",
       "\t 141 & linseed  \\\\\n",
       "\t 260 & linseed  \\\\\n",
       "\t 203 & linseed  \\\\\n",
       "\t 148 & linseed  \\\\\n",
       "\t 169 & linseed  \\\\\n",
       "\t 213 & linseed  \\\\\n",
       "\t 257 & linseed  \\\\\n",
       "\t 244 & linseed  \\\\\n",
       "\t 271 & linseed  \\\\\n",
       "\t 243 & soybean  \\\\\n",
       "\t 230 & soybean  \\\\\n",
       "\t 248 & soybean  \\\\\n",
       "\t 327 & soybean  \\\\\n",
       "\t 329 & soybean  \\\\\n",
       "\t 250 & soybean  \\\\\n",
       "\t 193 & soybean  \\\\\n",
       "\t 271 & soybean  \\\\\n",
       "\t ⋮ & ⋮\\\\\n",
       "\t 226 & sunflower\\\\\n",
       "\t 320 & sunflower\\\\\n",
       "\t 295 & sunflower\\\\\n",
       "\t 334 & sunflower\\\\\n",
       "\t 322 & sunflower\\\\\n",
       "\t 297 & sunflower\\\\\n",
       "\t 318 & sunflower\\\\\n",
       "\t 325 & meatmeal \\\\\n",
       "\t 257 & meatmeal \\\\\n",
       "\t 303 & meatmeal \\\\\n",
       "\t 315 & meatmeal \\\\\n",
       "\t 380 & meatmeal \\\\\n",
       "\t 153 & meatmeal \\\\\n",
       "\t 263 & meatmeal \\\\\n",
       "\t 242 & meatmeal \\\\\n",
       "\t 206 & meatmeal \\\\\n",
       "\t 344 & meatmeal \\\\\n",
       "\t 258 & meatmeal \\\\\n",
       "\t 368 & casein   \\\\\n",
       "\t 390 & casein   \\\\\n",
       "\t 379 & casein   \\\\\n",
       "\t 260 & casein   \\\\\n",
       "\t 404 & casein   \\\\\n",
       "\t 318 & casein   \\\\\n",
       "\t 352 & casein   \\\\\n",
       "\t 359 & casein   \\\\\n",
       "\t 216 & casein   \\\\\n",
       "\t 222 & casein   \\\\\n",
       "\t 283 & casein   \\\\\n",
       "\t 332 & casein   \\\\\n",
       "\\end{tabular}\n"
      ],
      "text/markdown": [
       "\n",
       "A data.frame: 71 × 2\n",
       "\n",
       "| weight &lt;dbl&gt; | feed &lt;fct&gt; |\n",
       "|---|---|\n",
       "| 179 | horsebean |\n",
       "| 160 | horsebean |\n",
       "| 136 | horsebean |\n",
       "| 227 | horsebean |\n",
       "| 217 | horsebean |\n",
       "| 168 | horsebean |\n",
       "| 108 | horsebean |\n",
       "| 124 | horsebean |\n",
       "| 143 | horsebean |\n",
       "| 140 | horsebean |\n",
       "| 309 | linseed   |\n",
       "| 229 | linseed   |\n",
       "| 181 | linseed   |\n",
       "| 141 | linseed   |\n",
       "| 260 | linseed   |\n",
       "| 203 | linseed   |\n",
       "| 148 | linseed   |\n",
       "| 169 | linseed   |\n",
       "| 213 | linseed   |\n",
       "| 257 | linseed   |\n",
       "| 244 | linseed   |\n",
       "| 271 | linseed   |\n",
       "| 243 | soybean   |\n",
       "| 230 | soybean   |\n",
       "| 248 | soybean   |\n",
       "| 327 | soybean   |\n",
       "| 329 | soybean   |\n",
       "| 250 | soybean   |\n",
       "| 193 | soybean   |\n",
       "| 271 | soybean   |\n",
       "| ⋮ | ⋮ |\n",
       "| 226 | sunflower |\n",
       "| 320 | sunflower |\n",
       "| 295 | sunflower |\n",
       "| 334 | sunflower |\n",
       "| 322 | sunflower |\n",
       "| 297 | sunflower |\n",
       "| 318 | sunflower |\n",
       "| 325 | meatmeal  |\n",
       "| 257 | meatmeal  |\n",
       "| 303 | meatmeal  |\n",
       "| 315 | meatmeal  |\n",
       "| 380 | meatmeal  |\n",
       "| 153 | meatmeal  |\n",
       "| 263 | meatmeal  |\n",
       "| 242 | meatmeal  |\n",
       "| 206 | meatmeal  |\n",
       "| 344 | meatmeal  |\n",
       "| 258 | meatmeal  |\n",
       "| 368 | casein    |\n",
       "| 390 | casein    |\n",
       "| 379 | casein    |\n",
       "| 260 | casein    |\n",
       "| 404 | casein    |\n",
       "| 318 | casein    |\n",
       "| 352 | casein    |\n",
       "| 359 | casein    |\n",
       "| 216 | casein    |\n",
       "| 222 | casein    |\n",
       "| 283 | casein    |\n",
       "| 332 | casein    |\n",
       "\n"
      ],
      "text/plain": [
       "   weight feed     \n",
       "1  179    horsebean\n",
       "2  160    horsebean\n",
       "3  136    horsebean\n",
       "4  227    horsebean\n",
       "5  217    horsebean\n",
       "6  168    horsebean\n",
       "7  108    horsebean\n",
       "8  124    horsebean\n",
       "9  143    horsebean\n",
       "10 140    horsebean\n",
       "11 309    linseed  \n",
       "12 229    linseed  \n",
       "13 181    linseed  \n",
       "14 141    linseed  \n",
       "15 260    linseed  \n",
       "16 203    linseed  \n",
       "17 148    linseed  \n",
       "18 169    linseed  \n",
       "19 213    linseed  \n",
       "20 257    linseed  \n",
       "21 244    linseed  \n",
       "22 271    linseed  \n",
       "23 243    soybean  \n",
       "24 230    soybean  \n",
       "25 248    soybean  \n",
       "26 327    soybean  \n",
       "27 329    soybean  \n",
       "28 250    soybean  \n",
       "29 193    soybean  \n",
       "30 271    soybean  \n",
       "⋮  ⋮      ⋮        \n",
       "42 226    sunflower\n",
       "43 320    sunflower\n",
       "44 295    sunflower\n",
       "45 334    sunflower\n",
       "46 322    sunflower\n",
       "47 297    sunflower\n",
       "48 318    sunflower\n",
       "49 325    meatmeal \n",
       "50 257    meatmeal \n",
       "51 303    meatmeal \n",
       "52 315    meatmeal \n",
       "53 380    meatmeal \n",
       "54 153    meatmeal \n",
       "55 263    meatmeal \n",
       "56 242    meatmeal \n",
       "57 206    meatmeal \n",
       "58 344    meatmeal \n",
       "59 258    meatmeal \n",
       "60 368    casein   \n",
       "61 390    casein   \n",
       "62 379    casein   \n",
       "63 260    casein   \n",
       "64 404    casein   \n",
       "65 318    casein   \n",
       "66 352    casein   \n",
       "67 359    casein   \n",
       "68 216    casein   \n",
       "69 222    casein   \n",
       "70 283    casein   \n",
       "71 332    casein   "
      ]
     },
     "metadata": {},
     "output_type": "display_data"
    }
   ],
   "source": [
    "c <- chickwts\n",
    "c"
   ]
  },
  {
   "cell_type": "markdown",
   "metadata": {},
   "source": [
    "Boxplot"
   ]
  },
  {
   "cell_type": "code",
   "execution_count": 25,
   "metadata": {
    "vscode": {
     "languageId": "r"
    }
   },
   "outputs": [
    {
     "data": {
      "image/png": "[encoded data removed]",
      "text/plain": [
       "plot without title"
      ]
     },
     "metadata": {
      "image/png": {
       "height": 420,
       "width": 420
      }
     },
     "output_type": "display_data"
    }
   ],
   "source": [
    "boxplot(weight ~ feed, data = c, col = \"green\", xlab = \"Diet\", ylab = \"Weight at 6 Weeks\")\n",
    "\n",
    "# With variable width and notches\n",
    "# boxplot(weight ~ feed, data = c, col = \"green\", varwidth = FALSE, notch = TRUE, xlab = \"Diet\", ylab = \"Weight at 6 Weeks\")"
   ]
  },
  {
   "cell_type": "markdown",
   "metadata": {},
   "source": [
    "LM & ANOVA"
   ]
  },
  {
   "cell_type": "code",
   "execution_count": 26,
   "metadata": {
    "vscode": {
     "languageId": "r"
    }
   },
   "outputs": [
    {
     "data": {
      "text/html": [
       "<table class=\"dataframe\">\n",
       "<caption>A anova: 2 × 5</caption>\n",
       "<thead>\n",
       "\t<tr><th></th><th scope=col>Df</th><th scope=col>Sum Sq</th><th scope=col>Mean Sq</th><th scope=col>F value</th><th scope=col>Pr(&gt;F)</th></tr>\n",
       "\t<tr><th></th><th scope=col>&lt;int&gt;</th><th scope=col>&lt;dbl&gt;</th><th scope=col>&lt;dbl&gt;</th><th scope=col>&lt;dbl&gt;</th><th scope=col>&lt;dbl&gt;</th></tr>\n",
       "</thead>\n",
       "<tbody>\n",
       "\t<tr><th scope=row>feed</th><td> 5</td><td>231129.2</td><td>46225.832</td><td>15.3648</td><td>5.93642e-10</td></tr>\n",
       "\t<tr><th scope=row>Residuals</th><td>65</td><td>195556.0</td><td> 3008.554</td><td>     NA</td><td>         NA</td></tr>\n",
       "</tbody>\n",
       "</table>\n"
      ],
      "text/latex": [
       "A anova: 2 × 5\n",
       "\\begin{tabular}{r|lllll}\n",
       "  & Df & Sum Sq & Mean Sq & F value & Pr(>F)\\\\\n",
       "  & <int> & <dbl> & <dbl> & <dbl> & <dbl>\\\\\n",
       "\\hline\n",
       "\tfeed &  5 & 231129.2 & 46225.832 & 15.3648 & 5.93642e-10\\\\\n",
       "\tResiduals & 65 & 195556.0 &  3008.554 &      NA &          NA\\\\\n",
       "\\end{tabular}\n"
      ],
      "text/markdown": [
       "\n",
       "A anova: 2 × 5\n",
       "\n",
       "| <!--/--> | Df &lt;int&gt; | Sum Sq &lt;dbl&gt; | Mean Sq &lt;dbl&gt; | F value &lt;dbl&gt; | Pr(&gt;F) &lt;dbl&gt; |\n",
       "|---|---|---|---|---|---|\n",
       "| feed |  5 | 231129.2 | 46225.832 | 15.3648 | 5.93642e-10 |\n",
       "| Residuals | 65 | 195556.0 |  3008.554 |      NA |          NA |\n",
       "\n"
      ],
      "text/plain": [
       "          Df Sum Sq   Mean Sq   F value Pr(>F)     \n",
       "feed       5 231129.2 46225.832 15.3648 5.93642e-10\n",
       "Residuals 65 195556.0  3008.554      NA          NA"
      ]
     },
     "metadata": {},
     "output_type": "display_data"
    },
    {
     "data": {
      "image/png": "[encoded data removed]",
      "text/plain": [
       "Plot with title \"\""
      ]
     },
     "metadata": {
      "image/png": {
       "height": 420,
       "width": 420
      }
     },
     "output_type": "display_data"
    },
    {
     "data": {
      "image/png": "[encoded data removed]",
      "text/plain": [
       "Plot with title \"\""
      ]
     },
     "metadata": {
      "image/png": {
       "height": 420,
       "width": 420
      }
     },
     "output_type": "display_data"
    },
    {
     "data": {
      "image/png": "[encoded data removed]",
      "text/plain": [
       "Plot with title \"\""
      ]
     },
     "metadata": {
      "image/png": {
       "height": 420,
       "width": 420
      }
     },
     "output_type": "display_data"
    },
    {
     "data": {
      "image/png": "[encoded data removed]",
      "text/plain": [
       "Plot with title \"\""
      ]
     },
     "metadata": {
      "image/png": {
       "height": 420,
       "width": 420
      }
     },
     "output_type": "display_data"
    }
   ],
   "source": [
    "anova(m1 <-lm(weight ~ feed, data = c))\n",
    "plot(m1)"
   ]
  },
  {
   "cell_type": "code",
   "execution_count": null,
   "metadata": {
    "vscode": {
     "languageId": "r"
    }
   },
   "outputs": [],
   "source": []
  }
 ],
 "metadata": {
  "kernelspec": {
   "display_name": "R",
   "language": "R",
   "name": "ir"
  },
  "language_info": {
   "codemirror_mode": "r",
   "file_extension": ".r",
   "mimetype": "text/x-r-source",
   "name": "R",
   "pygments_lexer": "r",
   "version": "4.2.0"
  },
  "orig_nbformat": 4
 },
 "nbformat": 4,
 "nbformat_minor": 2
}
